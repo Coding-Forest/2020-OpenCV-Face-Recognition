{
  "nbformat": 4,
  "nbformat_minor": 0,
  "metadata": {
    "colab": {
      "name": "FaceID Fine-tuning Result Comparison.ipynb",
      "provenance": [],
      "collapsed_sections": [],
      "toc_visible": true
    },
    "kernelspec": {
      "name": "python3",
      "display_name": "Python 3"
    },
    "language_info": {
      "name": "python"
    }
  },
  "cells": [
    {
      "cell_type": "markdown",
      "metadata": {
        "id": "t5FDxYws5tq8"
      },
      "source": [
        "# Comparison MTCNN-InceptionResnetV1 Fine-tuning Results"
      ]
    },
    {
      "cell_type": "code",
      "metadata": {
        "id": "1XveCw5b_LNW"
      },
      "source": [
        "import numpy as np\n",
        "import os\n",
        "import re\n",
        "import matplotlib.pyplot as plt"
      ],
      "execution_count": 17,
      "outputs": []
    },
    {
      "cell_type": "markdown",
      "metadata": {
        "id": "3DMaskhY_azh"
      },
      "source": [
        "## 1. Data preprocessing"
      ]
    },
    {
      "cell_type": "markdown",
      "metadata": {
        "id": "CTCz4e0nAClK"
      },
      "source": [
        "### 1) read files: string lists"
      ]
    },
    {
      "cell_type": "code",
      "metadata": {
        "id": "jJf-qKha1tIN"
      },
      "source": [
        "fine_tuning01 = \"\"\"\n",
        "Epoch 1/8\n",
        "----------\n",
        "Train |   174/174  | loss:    4.5792 | fps:    9.2119 | acc:    0.0830   \n",
        "Valid |    44/44   | loss:    4.4895 | fps:   28.4783 | acc:    0.0745   \n",
        "\n",
        "Epoch 2/8\n",
        "----------\n",
        "Train |   174/174  | loss:    2.3902 | fps:    9.6076 | acc:    0.4032   \n",
        "Valid |    44/44   | loss:    2.0684 | fps:   27.7559 | acc:    0.4327   \n",
        "\n",
        "Epoch 3/8\n",
        "----------\n",
        "Train |   174/174  | loss:    1.0903 | fps:    9.5416 | acc:    0.7293   \n",
        "Valid |    44/44   | loss:    2.1898 | fps:   27.8677 | acc:    0.4786   \n",
        "\n",
        "Epoch 4/8\n",
        "----------\n",
        "Train |   174/174  | loss:    0.5100 | fps:    9.5267 | acc:    0.8797   \n",
        "Valid |    44/44   | loss:    0.8549 | fps:   27.7706 | acc:    0.7635   \n",
        "\n",
        "Epoch 5/8\n",
        "----------\n",
        "Train |   174/174  | loss:    0.2890 | fps:    8.9395 | acc:    0.9370   \n",
        "Valid |    44/44   | loss:    0.5499 | fps:   26.3761 | acc:    0.8484   \n",
        "\n",
        "Epoch 6/8\n",
        "----------\n",
        "Train |   174/174  | loss:    0.1190 | fps:    9.0287 | acc:    0.9790   \n",
        "Valid |    44/44   | loss:    0.1956 | fps:   27.0960 | acc:    0.9482   \n",
        "\n",
        "Epoch 7/8\n",
        "----------\n",
        "Train |   174/174  | loss:    0.0677 | fps:    9.2442 | acc:    0.9907   \n",
        "Valid |    44/44   | loss:    0.1828 | fps:   27.9821 | acc:    0.9524   \n",
        "\n",
        "Epoch 8/8\n",
        "----------\n",
        "Train |   174/174  | loss:    0.0546 | fps:    9.4453 | acc:    0.9925   \n",
        "Valid |    44/44   | loss:    0.1710 | fps:   28.0204 | acc:    0.9531 \n",
        "\"\"\""
      ],
      "execution_count": 9,
      "outputs": []
    },
    {
      "cell_type": "code",
      "metadata": {
        "id": "BZrsndvcDDuD"
      },
      "source": [
        "fine_tuning02 = \"\"\"\n",
        "Epoch 1/10\n",
        "----------\n",
        "Train |  5693/5693 | loss:    3.3106 | fps:   10.2670 | acc:    0.2260   \n",
        "Valid |  1424/1424 | loss:    1.5108 | fps:   36.6531 | acc:    0.5558   \n",
        "\n",
        "Epoch 2/10\n",
        "----------\n",
        "Train |  5693/5693 | loss:    1.0629 | fps:   11.2976 | acc:    0.6912   \n",
        "Valid |  1424/1424 | loss:    0.4457 | fps:   36.3513 | acc:    0.8689   \n",
        "\n",
        "Epoch 3/10\n",
        "----------\n",
        "Train |  5693/5693 | loss:    0.5812 | fps:   11.2516 | acc:    0.8256   \n",
        "Valid |  1424/1424 | loss:    0.3030 | fps:   36.6162 | acc:    0.9075   \n",
        "\n",
        "Epoch 4/10\n",
        "----------\n",
        "Train |  5693/5693 | loss:    0.3997 | fps:   11.2056 | acc:    0.8793   \n",
        "Valid |  1424/1424 | loss:    0.2673 | fps:   36.5400 | acc:    0.9157\n",
        "\n",
        "Epoch 5/10\n",
        "----------\n",
        "Train |  5693/5693 | loss:    0.2945 | fps:   11.2004 | acc:    0.9092   \n",
        "Valid |  1424/1424 | loss:    0.3371 | fps:   36.2728 | acc:    0.8997   \n",
        "\n",
        "Epoch 6/10\n",
        "----------\n",
        "Train |  5693/5693 | loss:    0.1063 | fps:   11.2462 | acc:    0.9661   \n",
        "Valid |  1424/1424 | loss:    0.0561 | fps:   36.3452 | acc:    0.9823   \n",
        "\n",
        "Epoch 7/10\n",
        "----------\n",
        "Train |  5693/5693 | loss:    0.0715 | fps:   11.2044 | acc:    0.9767   \n",
        "Valid |  1424/1424 | loss:    0.0520 | fps:   37.7104 | acc:    0.9824   \n",
        "\n",
        "Epoch 8/10\n",
        "----------\n",
        "Train |  5693/5693 | loss:    0.0607 | fps:   11.5880 | acc:    0.9797   \n",
        "Valid |  1424/1424 | loss:    0.0489 | fps:   37.9057 | acc:    0.9837   \n",
        "\n",
        "Epoch 9/10\n",
        "----------\n",
        "Train |  5693/5693 | loss:    0.0535 | fps:   11.6075 | acc:    0.9816   \n",
        "Valid |  1424/1424 | loss:    0.0498 | fps:   37.7392 | acc:    0.9830   \n",
        "\n",
        "Epoch 10/10\n",
        "----------\n",
        "Train |  5693/5693 | loss:    0.0491 | fps:   11.5842 | acc:    0.9827   \n",
        "Valid |  1424/1424 | loss:    0.0484 | fps:   37.5482 | acc:    0.9830   \n",
        "\"\"\""
      ],
      "execution_count": 10,
      "outputs": []
    },
    {
      "cell_type": "code",
      "metadata": {
        "id": "IGyimXFlsx2o"
      },
      "source": [
        "import re\n",
        "\n",
        "path1 = \"/content/here/MyDrive/FaceID/Fine_tuning/fine_tuning01.txt\"\n",
        "path2 = \"/content/here/MyDrive/FaceID/Fine_tuning/fine_tuning02.txt\"\n",
        "\n",
        "\n",
        "fine_tuning_file1 = open(path1)\n",
        "fine_tuning_file2 = open(path2)\n",
        "content1 = fine_tuning_file1.readlines()\n",
        "content2 = fine_tuning_file2.readlines()"
      ],
      "execution_count": 11,
      "outputs": []
    },
    {
      "cell_type": "markdown",
      "metadata": {
        "id": "wC5U3L4n__4t"
      },
      "source": [
        "### 2) Extract train & valid lines."
      ]
    },
    {
      "cell_type": "code",
      "metadata": {
        "colab": {
          "base_uri": "https://localhost:8080/"
        },
        "id": "xrCyb4YGsyvW",
        "outputId": "5e4f3b50-75a4-4f57-a397-02029944ee33"
      },
      "source": [
        "train_lines1, valid_lines1, train_lines2, valid_lines2 = [], [], [], []\n",
        "line_lists = [train_lines1, valid_lines1, train_lines2, valid_lines2]\n",
        "\n",
        "for i in range(8):\n",
        "    train_lines1.append(content1[3 + i*5])\n",
        "    valid_lines1.append(content1[4 + i*5])\n",
        "\n",
        "for i in range(10):\n",
        "    train_lines2.append(content2[3 + i*5])\n",
        "    valid_lines2.append(content2[4 + i*5])\n",
        "\n",
        "for li in line_lists:\n",
        "    for line in li:\n",
        "        print(line)"
      ],
      "execution_count": 12,
      "outputs": [
        {
          "output_type": "stream",
          "name": "stdout",
          "text": [
            "Train |   174/174  | loss:    4.5792 | fps:    9.2119 | acc:    0.0830   \n",
            "\n",
            "Train |   174/174  | loss:    2.3902 | fps:    9.6076 | acc:    0.4032   \n",
            "\n",
            "Train |   174/174  | loss:    1.0903 | fps:    9.5416 | acc:    0.7293   \n",
            "\n",
            "Train |   174/174  | loss:    0.5100 | fps:    9.5267 | acc:    0.8797   \n",
            "\n",
            "Train |   174/174  | loss:    0.2890 | fps:    8.9395 | acc:    0.9370   \n",
            "\n",
            "Train |   174/174  | loss:    0.1190 | fps:    9.0287 | acc:    0.9790   \n",
            "\n",
            "Train |   174/174  | loss:    0.0677 | fps:    9.2442 | acc:    0.9907   \n",
            "\n",
            "Train |   174/174  | loss:    0.0546 | fps:    9.4453 | acc:    0.9925   \n",
            "\n",
            "Valid |    44/44   | loss:    4.4895 | fps:   28.4783 | acc:    0.0745   \n",
            "\n",
            "Valid |    44/44   | loss:    2.0684 | fps:   27.7559 | acc:    0.4327   \n",
            "\n",
            "Valid |    44/44   | loss:    2.1898 | fps:   27.8677 | acc:    0.4786   \n",
            "\n",
            "Valid |    44/44   | loss:    0.8549 | fps:   27.7706 | acc:    0.7635   \n",
            "\n",
            "Valid |    44/44   | loss:    0.5499 | fps:   26.3761 | acc:    0.8484   \n",
            "\n",
            "Valid |    44/44   | loss:    0.1956 | fps:   27.0960 | acc:    0.9482   \n",
            "\n",
            "Valid |    44/44   | loss:    0.1828 | fps:   27.9821 | acc:    0.9524   \n",
            "\n",
            "Valid |    44/44   | loss:    0.1710 | fps:   28.0204 | acc:    0.9531 \n",
            "\n",
            "Train |  5693/5693 | loss:    3.3106 | fps:   10.2670 | acc:    0.2260   \n",
            "\n",
            "Train |  5693/5693 | loss:    1.0629 | fps:   11.2976 | acc:    0.6912   \n",
            "\n",
            "Train |  5693/5693 | loss:    0.5812 | fps:   11.2516 | acc:    0.8256   \n",
            "\n",
            "Train |  5693/5693 | loss:    0.3997 | fps:   11.2056 | acc:    0.8793   \n",
            "\n",
            "Train |  5693/5693 | loss:    0.2945 | fps:   11.2004 | acc:    0.9092   \n",
            "\n",
            "Train |  5693/5693 | loss:    0.1063 | fps:   11.2462 | acc:    0.9661   \n",
            "\n",
            "Train |  5693/5693 | loss:    0.0715 | fps:   11.2044 | acc:    0.9767   \n",
            "\n",
            "Train |  5693/5693 | loss:    0.0607 | fps:   11.5880 | acc:    0.9797   \n",
            "\n",
            "Train |  5693/5693 | loss:    0.0535 | fps:   11.6075 | acc:    0.9816   \n",
            "\n",
            "Train |  5693/5693 | loss:    0.0491 | fps:   11.5842 | acc:    0.9827   \n",
            "\n",
            "Valid |  1424/1424 | loss:    1.5108 | fps:   36.6531 | acc:    0.5558   \n",
            "\n",
            "Valid |  1424/1424 | loss:    0.4457 | fps:   36.3513 | acc:    0.8689   \n",
            "\n",
            "Valid |  1424/1424 | loss:    0.3030 | fps:   36.6162 | acc:    0.9075   \n",
            "\n",
            "Valid |  1424/1424 | loss:    0.2673 | fps:   36.5400 | acc:    0.9157\n",
            "\n",
            "Valid |  1424/1424 | loss:    0.3371 | fps:   36.2728 | acc:    0.8997   \n",
            "\n",
            "Valid |  1424/1424 | loss:    0.0561 | fps:   36.3452 | acc:    0.9823   \n",
            "\n",
            "Valid |  1424/1424 | loss:    0.0520 | fps:   37.7104 | acc:    0.9824   \n",
            "\n",
            "Valid |  1424/1424 | loss:    0.0489 | fps:   37.9057 | acc:    0.9837   \n",
            "\n",
            "Valid |  1424/1424 | loss:    0.0498 | fps:   37.7392 | acc:    0.9830   \n",
            "\n",
            "Valid |  1424/1424 | loss:    0.0484 | fps:   37.5482 | acc:    0.9830   \n",
            "\n"
          ]
        }
      ]
    },
    {
      "cell_type": "markdown",
      "metadata": {
        "id": "LsaLbGs3AIZh"
      },
      "source": [
        "### 3) Extract train & valid values."
      ]
    },
    {
      "cell_type": "code",
      "metadata": {
        "colab": {
          "base_uri": "https://localhost:8080/"
        },
        "id": "K9MJmPhk5dEp",
        "outputId": "287ade4f-a4b7-41da-a99e-1957138353a0"
      },
      "source": [
        "train_loss_1, valid_loss_1, train_loss_2, valid_loss_2 = [], [], [], []\n",
        "train_acc_1, valid_acc_1, train_acc_2, valid_acc_2 = [], [], [], []\n",
        "\n",
        "loss_results = [train_loss_1, valid_loss_1, train_loss_2, valid_loss_2]\n",
        "acc_results  = [train_acc_1, valid_acc_1, train_acc_2, valid_acc_2]\n",
        "\n",
        "loss_pattern = \"loss:\\s+\\d+\\.\\d+\"\n",
        "acc_pattern  =  \"acc:\\s+\\d+\\.\\d+\"\n",
        "value_pattern = \"\\d+\\.\\d+\"\n",
        "\n",
        "for i, line_list in enumerate(line_lists):\n",
        "    for line in line_list: \n",
        "        loss_t = re.search(loss_pattern, line).group()\n",
        "        loss_t = re.search(value_pattern, loss_t).group()\n",
        "        loss_results[i].append(float(loss_t))\n",
        "        acc_t = re.search(acc_pattern, line).group()\n",
        "        acc_t = re.search(value_pattern, acc_t).group()\n",
        "        acc_results[i].append(float(acc_t))\n",
        "\n",
        "print(train_loss_1)\n",
        "print(valid_loss_1)\n",
        "print(train_loss_2)\n",
        "print(valid_loss_2)\n",
        "print()\n",
        "print(train_acc_1)\n",
        "print(valid_acc_1)\n",
        "print(train_acc_2)\n",
        "print(valid_acc_2)"
      ],
      "execution_count": 13,
      "outputs": [
        {
          "output_type": "stream",
          "name": "stdout",
          "text": [
            "[4.5792, 2.3902, 1.0903, 0.51, 0.289, 0.119, 0.0677, 0.0546]\n",
            "[4.4895, 2.0684, 2.1898, 0.8549, 0.5499, 0.1956, 0.1828, 0.171]\n",
            "[3.3106, 1.0629, 0.5812, 0.3997, 0.2945, 0.1063, 0.0715, 0.0607, 0.0535, 0.0491]\n",
            "[1.5108, 0.4457, 0.303, 0.2673, 0.3371, 0.0561, 0.052, 0.0489, 0.0498, 0.0484]\n",
            "\n",
            "[0.083, 0.4032, 0.7293, 0.8797, 0.937, 0.979, 0.9907, 0.9925]\n",
            "[0.0745, 0.4327, 0.4786, 0.7635, 0.8484, 0.9482, 0.9524, 0.9531]\n",
            "[0.226, 0.6912, 0.8256, 0.8793, 0.9092, 0.9661, 0.9767, 0.9797, 0.9816, 0.9827]\n",
            "[0.5558, 0.8689, 0.9075, 0.9157, 0.8997, 0.9823, 0.9824, 0.9837, 0.983, 0.983]\n"
          ]
        }
      ]
    },
    {
      "cell_type": "markdown",
      "metadata": {
        "id": "UxblYedjALQi"
      },
      "source": [
        "### 4) Visualise results"
      ]
    },
    {
      "cell_type": "code",
      "metadata": {
        "id": "0TXeEnQY2PqN"
      },
      "source": [
        "import itertools\n",
        "\n",
        "#def flatten(nested_list):\n",
        "def flatten(nested_list):\n",
        "    flat_list = list(itertools.chain(*nested_list))\n",
        "    flat_list = [float(number) for number in flat_list]\n",
        "    return flat_list\n",
        "\n",
        "def nested_minmax(nested_list):\n",
        "    flat_list = flatten(nested_list)\n",
        "    max = np.max(flat_list)\n",
        "    min = np.min(flat_list)\n",
        "    return min, max"
      ],
      "execution_count": 14,
      "outputs": []
    },
    {
      "cell_type": "code",
      "metadata": {
        "colab": {
          "base_uri": "https://localhost:8080/",
          "height": 721
        },
        "id": "6ksG_pIeK89J",
        "outputId": "fa3a764e-0e58-449d-eedc-74ee994df6e1"
      },
      "source": [
        "epochs01 = np.arange(0, len(train_acc_1))\n",
        "epochs02 = np.arange(0, len(train_acc_2))\n",
        "\n",
        "profile = \"Fine-tuning1: 8,000 images of 400 individuals\\nFine-tuning2: 144,000 images of the same 400 individuals\"\n",
        "title_label = [\"Loss Comparison\", \"Accuracy Comparison\"]\n",
        "results = [loss_results, acc_results]\n",
        "\n",
        "for i in range(2):\n",
        "    fig, ax = plt.subplots(figsize=(7, 5))\n",
        "    ax.plot(epochs01, results[i][0], c='blue', label=\"Fine-tuning train 1\")\n",
        "    ax.plot(epochs01, results[i][1], c='dodgerblue', label=\"Fine-tuning valid 1\")\n",
        "    ax.plot(epochs02, results[i][2], c='red', label=\"Fine-tuning train 2\")\n",
        "    ax.plot(epochs02, results[i][3], c='coral', label=\"Fine-tuning valid 2\")\n",
        "    ax.set_xlim(-0.5, 9.5)\n",
        "    ax.set_ylim()\n",
        "    ax.set_title(title_label[i], fontsize=25)\n",
        "    plt.legend()\n",
        "    plt.tight_layout()\n",
        "    plt.savefig(f\"/content/here/MyDrive/FaceID/Fine_tuning/{title_label[i]}.png\")    \n",
        "plt.show()"
      ],
      "execution_count": 18,
      "outputs": [
        {
          "output_type": "display_data",
          "data": {
            "image/png": "[encoded data removed]",
            "text/plain": [
              "<Figure size 504x360 with 1 Axes>"
            ]
          },
          "metadata": {
            "needs_background": "light"
          }
        },
        {
          "output_type": "display_data",
          "data": {
            "image/png": "[encoded data removed]",
            "text/plain": [
              "<Figure size 504x360 with 1 Axes>"
            ]
          },
          "metadata": {
            "needs_background": "light"
          }
        }
      ]
    },
    {
      "cell_type": "markdown",
      "metadata": {
        "id": "DPg0G7vQ6SE2"
      },
      "source": [
        "## New functions learnt\n",
        "- remove file:\n",
        "    - `os.remove(path)`\n",
        "- reverse axis\n",
        "    - `plt.gca().invert_xaxis()`\n",
        "    - `ax.invert_xaxis()`\n",
        "- save figure: \n",
        "    - `plt.savefig(path)`\n",
        "    - remember, pyplot clears the memory after `plt.show()`. Be sure to call savefig before that. \n",
        "- flatten list: \n",
        "    - `import itertools`\n",
        "    - ` list(itertools.chain(*nested_list))`"
      ]
    }
  ]
}
